{
 "cells": [
  {
   "cell_type": "markdown",
   "id": "ideal-throw",
   "metadata": {},
   "source": [
    "# Workbook 01\n",
    "\n",
    "---\n",
    "The following problem set will focus on the lessons on Python and basic string manipulation. Answer the following guide questions by writing functions or code in cells that accomplish the requirements.\n",
    "\n",
    "1. Write a function to check whether a string is a palindrome. (A palindrome is a string that reads the same forwards and backwards) **1 pt.**\n",
    "\n",
    "2. Write a function that checks whether a number is prime or not **1 pt.**\n",
    "\n",
    "3. Load `data/allstar.txt` and create a dictionary where the keys are the verses or chorus numbers, and the values are the chords for that part of the song. **4 pts.**\n",
    "`{ \"verse1\": \"Am, C, D, G, F, G, G, Bm\", \"chorus1\": \"C, Am, G, D, C, Am, G, D, C\"..}`\n",
    "\n",
    "4. Build a dictionary from `data/allstar.txt` where the keys are the unique words, and the values are the number of times the word appeared in the song. **4 pts.**\n",
    "\n",
    "5. Load `Rick Astley - Never Gonna Give You Up Lyrics _ AZLyrics.com.html` and find out the ff (show the code): **10 pts.**\n",
    "       - How many unique words are there?\n",
    "       - List what will Rick Astley never do?\n",
    "       - Write a function that lists all the unique words and counts the num of occurences. Output the result as a dictionary similar to **Item 4.**\n",
    "       - Use the dictionary from above to create a word count histogram.\n",
    "       \n",
    "6. Create a function that takes in 3 parameters (integer n, integer a, integer b), and generates an nxn numpy matrix with random values from the range a to b inclusive. **2 pts.**\n",
    "       \n",
    "7. Create a 5x5 identity matrix **(1pt)**\n",
    "\n",
    "8. Create a function that lists the first n prime numbers **(2pts)**\n"
   ]
  },
  {
   "cell_type": "code",
   "execution_count": null,
   "id": "architectural-agriculture",
   "metadata": {},
   "outputs": [],
   "source": []
  }
 ],
 "metadata": {
  "kernelspec": {
   "display_name": "Python 3",
   "language": "python",
   "name": "python3"
  },
  "language_info": {
   "codemirror_mode": {
    "name": "ipython",
    "version": 3
   },
   "file_extension": ".py",
   "mimetype": "text/x-python",
   "name": "python",
   "nbconvert_exporter": "python",
   "pygments_lexer": "ipython3",
   "version": "3.9.0"
  }
 },
 "nbformat": 4,
 "nbformat_minor": 5
}
