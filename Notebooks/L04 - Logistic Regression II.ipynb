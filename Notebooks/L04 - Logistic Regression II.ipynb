{
 "cells": [
  {
   "cell_type": "code",
   "execution_count": 1,
   "metadata": {},
   "outputs": [],
   "source": [
    "#importing all the modules required\n",
    "import numpy as np\n",
    "import pandas as pd\n",
    "import seaborn as sns\n",
    "import matplotlib.pyplot as plt\n",
    "import sklearn\n",
    "\n",
    "import warnings\n",
    "\n",
    "warnings.filterwarnings(action=\"ignore\")"
   ]
  },
  {
   "cell_type": "code",
   "execution_count": 2,
   "metadata": {},
   "outputs": [],
   "source": [
    "df =  pd.read_csv('data/Pokemon.csv') "
   ]
  },
  {
   "cell_type": "code",
   "execution_count": 3,
   "metadata": {},
   "outputs": [
    {
     "name": "stdout",
     "output_type": "stream",
     "text": [
      "0.9070735090152566\n"
     ]
    }
   ],
   "source": [
    "from sklearn.linear_model import LogisticRegression\n",
    "from sklearn import metrics\n",
    "\n",
    "X = df[[\"Attack\", \"Defense\", \"Sp_Atk\", \"Sp_Def\", \"Speed\", \"Weight_kg\", \"Height_m\"]]\n",
    "logistic_model = LogisticRegression(class_weight=\"balanced\")\n",
    "logistic_model.fit(X, df[\"isLegendary\"])\n",
    "predictions = logistic_model.predict(X)\n",
    "accuracy = metrics.accuracy_score(predictions,df[\"isLegendary\"])\n",
    "print(accuracy)"
   ]
  },
  {
   "cell_type": "code",
   "execution_count": 4,
   "metadata": {},
   "outputs": [
    {
     "data": {
      "text/plain": [
       "array([[ 0.00829422,  0.01804823,  0.03239594,  0.02280706,  0.02671366,\n",
       "         0.00715197, -0.2514564 ]])"
      ]
     },
     "execution_count": 4,
     "metadata": {},
     "output_type": "execute_result"
    }
   ],
   "source": [
    "logistic_model.coef_"
   ]
  },
  {
   "cell_type": "code",
   "execution_count": 6,
   "metadata": {},
   "outputs": [],
   "source": [
    "from sklearn.model_selection import train_test_split\n",
    "from sklearn.utils import resample\n",
    "\n",
    "df = df.reset_index()\n",
    "X = df[[\"Attack\", \"Defense\", \"Sp_Atk\", \"Sp_Def\", \"Speed\", \"Weight_kg\", \"Height_m\"]]\n",
    "X_train, X_test, Y_train, Y_test = train_test_split(X, \n",
    "                   df[\"isLegendary\"], \n",
    "                   test_size=0.3,  \n",
    "                   train_size=0.7,    \n",
    "                   random_state=42)\n",
    "\n",
    "logistic_model = LogisticRegression(class_weight=\"balanced\")\n",
    "logistic_model.fit(X_train, Y_train)\n",
    "pred_train = logistic_model.predict(X_train)\n",
    "pred_test =  logistic_model.predict(X_test)\n",
    "train_accuracy = metrics.accuracy_score(pred_train,Y_train)\n",
    "test_accuracy = metrics.accuracy_score(pred_test,Y_test)\n"
   ]
  },
  {
   "cell_type": "code",
   "execution_count": 8,
   "metadata": {},
   "outputs": [
    {
     "name": "stdout",
     "output_type": "stream",
     "text": [
      "Accuracy: 0.9262672811059908\n",
      "Precision: 0.4074074074074074\n",
      "Recall: 1.0\n"
     ]
    }
   ],
   "source": [
    "print(\"Accuracy:\",metrics.accuracy_score(Y_test, pred_test))\n",
    "print(\"Precision:\",metrics.precision_score(Y_test, pred_test))\n",
    "print(\"Recall:\",metrics.recall_score(Y_test, pred_test))"
   ]
  },
  {
   "cell_type": "code",
   "execution_count": 23,
   "metadata": {},
   "outputs": [
    {
     "data": {
      "text/plain": [
       "True     469\n",
       "False    469\n",
       "Name: isLegendary, dtype: int64"
      ]
     },
     "execution_count": 23,
     "metadata": {},
     "output_type": "execute_result"
    }
   ],
   "source": [
    "X = df[[\"Attack\", \"Defense\", \"Sp_Atk\", \"Sp_Def\", \"Speed\", \"Weight_kg\", \"Height_m\"]]\n",
    "\n",
    "X_train, X_test, Y_train, Y_test = train_test_split(X, \n",
    "                   df[\"isLegendary\"], \n",
    "                   test_size=0.3,  \n",
    "                   train_size=0.7,    \n",
    "                   random_state=42)\n",
    "\n",
    "X = pd.concat([X_train, Y_train], axis=1)\n",
    "\n",
    "# separate minority and majority classes\n",
    "not_legendary = X[X.isLegendary==False]\n",
    "legendary = X[X.isLegendary==True]\n",
    "\n",
    "# upsample minority\n",
    "legendary_upsampled = resample(legendary,\n",
    "                          replace=True, # sample with replacement\n",
    "                          n_samples=len(not_legendary), # match number in majority class\n",
    "                          random_state=42) # reproducible results\n",
    "\n",
    "# combine majority and upsampled minority\n",
    "legendary_upsampled = pd.concat([not_legendary, legendary_upsampled])\n",
    "\n",
    "# check new class counts\n",
    "legendary_upsampled.isLegendary.value_counts()"
   ]
  },
  {
   "cell_type": "code",
   "execution_count": 24,
   "metadata": {},
   "outputs": [],
   "source": [
    "Y_train = legendary_upsampled.isLegendary\n",
    "X_train = legendary_upsampled.drop('isLegendary', axis=1)\n",
    "\n",
    "legendary_upsampled = LogisticRegression(class_weight=\"balanced\", solver=\"liblinear\").fit(X_train, Y_train)\n",
    "\n",
    "upsampled_pred = legendary_upsampled.predict(X_test)"
   ]
  },
  {
   "cell_type": "code",
   "execution_count": 25,
   "metadata": {},
   "outputs": [
    {
     "name": "stdout",
     "output_type": "stream",
     "text": [
      "Accuracy: 0.9447004608294931\n",
      "Precision: 0.4782608695652174\n",
      "Recall: 1.0\n"
     ]
    }
   ],
   "source": [
    "print(\"Accuracy:\",metrics.accuracy_score(Y_test, upsampled_pred))\n",
    "print(\"Precision:\",metrics.precision_score(Y_test, upsampled_pred))\n",
    "print(\"Recall:\",metrics.recall_score(Y_test, upsampled_pred))"
   ]
  },
  {
   "cell_type": "code",
   "execution_count": 27,
   "metadata": {},
   "outputs": [
    {
     "data": {
      "text/plain": [
       "Text(0.5, 257.44, 'Predicted label')"
      ]
     },
     "execution_count": 27,
     "metadata": {},
     "output_type": "execute_result"
    },
    {
     "data": {
      "image/png": "[encoded data removed]",
      "text/plain": [
       "<Figure size 432x288 with 2 Axes>"
      ]
     },
     "metadata": {
      "needs_background": "light"
     },
     "output_type": "display_data"
    }
   ],
   "source": [
    "from sklearn import metrics\n",
    "cnf_matrix = metrics.confusion_matrix(Y_test, upsampled_pred)\n",
    "cnf_matrix\n",
    "\n",
    "class_names=[\"0\",\"1\"] # name  of classes\n",
    "fig, ax = plt.subplots()\n",
    "tick_marks = np.arange(len(class_names))\n",
    "plt.xticks(tick_marks, class_names)\n",
    "plt.yticks(tick_marks, class_names)\n",
    "# create heatmap\n",
    "sns.heatmap(pd.DataFrame(cnf_matrix), annot=True, cmap=\"YlGnBu\" ,fmt='g')\n",
    "ax.xaxis.set_label_position(\"top\")\n",
    "plt.tight_layout()\n",
    "plt.title('Confusion matrix', y=1.1)\n",
    "plt.ylabel('Actual label')\n",
    "plt.xlabel('Predicted label')"
   ]
  },
  {
   "cell_type": "code",
   "execution_count": null,
   "metadata": {},
   "outputs": [],
   "source": []
  }
 ],
 "metadata": {
  "kernelspec": {
   "display_name": "Python 3",
   "language": "python",
   "name": "python3"
  },
  "language_info": {
   "codemirror_mode": {
    "name": "ipython",
    "version": 3
   },
   "file_extension": ".py",
   "mimetype": "text/x-python",
   "name": "python",
   "nbconvert_exporter": "python",
   "pygments_lexer": "ipython3",
   "version": "3.7.4"
  }
 },
 "nbformat": 4,
 "nbformat_minor": 2
}
